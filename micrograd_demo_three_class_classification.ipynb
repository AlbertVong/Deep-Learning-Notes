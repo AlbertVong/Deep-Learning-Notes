{
  "nbformat": 4,
  "nbformat_minor": 0,
  "metadata": {
    "colab": {
      "provenance": [],
      "authorship_tag": "ABX9TyNn24skAFNzO65EK63EWTVu",
      "include_colab_link": true
    },
    "kernelspec": {
      "name": "python3",
      "display_name": "Python 3"
    },
    "language_info": {
      "name": "python"
    }
  },
  "cells": [
    {
      "cell_type": "markdown",
      "metadata": {
        "id": "view-in-github",
        "colab_type": "text"
      },
      "source": [
        "<a href=\"https://colab.research.google.com/github/AlbertVong/Deep-Learning-Notes/blob/main/micrograd_demo_three_class_classification.ipynb\" target=\"_parent\"><img src=\"https://colab.research.google.com/assets/colab-badge.svg\" alt=\"Open In Colab\"/></a>"
      ]
    },
    {
      "cell_type": "markdown",
      "source": [
        "Implementing micrograd from scratch and using it for a 3 class classification problem (harder than a binary classification problem). This creates a 2D decision boundary."
      ],
      "metadata": {
        "id": "-INnmhFWzDsG"
      }
    },
    {
      "cell_type": "code",
      "execution_count": null,
      "metadata": {
        "id": "Fy7JCB1Bprg0"
      },
      "outputs": [],
      "source": [
        "import random\n",
        "import numpy as np\n",
        "import matplotlib.pyplot as plt\n",
        "%matplotlib inline\n"
      ]
    },
    {
      "cell_type": "code",
      "source": [
        "import math"
      ],
      "metadata": {
        "id": "bd1W_gnFWr0g"
      },
      "execution_count": null,
      "outputs": []
    },
    {
      "cell_type": "code",
      "source": [
        "from sklearn import datasets"
      ],
      "metadata": {
        "id": "Igk9g0Y0qGx_"
      },
      "execution_count": null,
      "outputs": []
    },
    {
      "cell_type": "markdown",
      "source": [
        "We'll be using a multi-moon dataset (more than the binary classification problem that is in the original demo, just to make it a tiny bit harder).\n",
        "\n",
        "Answer taken from here: https://stackoverflow.com/questions/71733603/generate-a-dataset-distributed-in-three-interleaving-half-circle-shape-in-python"
      ],
      "metadata": {
        "id": "WOlPUYw9uNGs"
      }
    },
    {
      "cell_type": "code",
      "source": [
        "def make_many_moons(\n",
        "    number_of_moons,\n",
        "    sigma, \n",
        "    radius, \n",
        "    number_of_datapoints,\n",
        "    y_shift = 0.3\n",
        "):\n",
        "    \n",
        "    moons = []\n",
        "    for y in range(number_of_moons):\n",
        "        q = np.random.uniform(0,np.pi,size=number_of_datapoints)\n",
        "        \n",
        "        #Whether moon curves up or down\n",
        "        if y % 2 == 0:\n",
        "            factor = 1\n",
        "        else: \n",
        "            factor = -1\n",
        "        \n",
        "        moon = np.zeros((number_of_datapoints, 3))\n",
        "        #x val\n",
        "        moon[:,0] = (radius * np.cos(q)) + y\n",
        "        #y val\n",
        "        moon[:,1] = (radius * np.sin(q) * factor) + (factor == -1) * y_shift\n",
        "        #Which moon this belongs to\n",
        "        moon[:,2] = y\n",
        "        moons.append(moon)\n",
        "        noise = np.random.normal(0, sigma, size=moon[:,:2].shape)\n",
        "        moon[:,:2] += noise\n",
        "    moons = np.concatenate(moons)\n",
        "    return moons[:,:2], moons[:,2]"
      ],
      "metadata": {
        "id": "wnSolOX3qy9P"
      },
      "execution_count": null,
      "outputs": []
    },
    {
      "cell_type": "code",
      "source": [
        "x_raw, label = make_many_moons(\n",
        "    number_of_moons = 3,\n",
        "    sigma = 0.1,\n",
        "    radius = 1,\n",
        "    number_of_datapoints=40,\n",
        "    y_shift = 0.3\n",
        ")"
      ],
      "metadata": {
        "id": "5FBBvb7iu0VZ"
      },
      "execution_count": null,
      "outputs": []
    },
    {
      "cell_type": "code",
      "source": [
        "#Convert labels to int (For indexing later)\n",
        "label_i = label.astype(int)"
      ],
      "metadata": {
        "id": "gJ_DNzJxiiet"
      },
      "execution_count": null,
      "outputs": []
    },
    {
      "cell_type": "code",
      "source": [
        "plt.scatter(x_raw[:,0], x_raw[:,1], c = label)"
      ],
      "metadata": {
        "colab": {
          "base_uri": "https://localhost:8080/",
          "height": 286
        },
        "id": "uU7PdLpCvDGM",
        "outputId": "6427fc50-9b93-49fa-bbd7-47daf14c5931"
      },
      "execution_count": null,
      "outputs": [
        {
          "output_type": "execute_result",
          "data": {
            "text/plain": [
              "<matplotlib.collections.PathCollection at 0x7fd9a67f3350>"
            ]
          },
          "metadata": {},
          "execution_count": 8
        },
        {
          "output_type": "display_data",
          "data": {
            "text/plain": [
              "<Figure size 432x288 with 1 Axes>"
            ],
            "image/png": "[encoded data removed]"
          },
          "metadata": {
            "needs_background": "light"
          }
        }
      ]
    },
    {
      "cell_type": "code",
      "source": [
        "from sklearn.datasets import make_moons, make_blobs"
      ],
      "metadata": {
        "id": "2glEoLW0pGXD"
      },
      "execution_count": null,
      "outputs": []
    },
    {
      "cell_type": "code",
      "source": [
        "Xtest, ytest = make_moons(n_samples=100, noise=0.1)"
      ],
      "metadata": {
        "id": "0p3qXyd4o1ei"
      },
      "execution_count": null,
      "outputs": []
    },
    {
      "cell_type": "code",
      "source": [
        "x_all = x_raw\n",
        "x_all[:,0] = (x_raw[:,0] - np.mean(x_raw[:,0])) / np.std(x_raw[:,0])\n",
        "x_all[:,1] = (x_raw[:,1] - np.mean(x_raw[:,1])) / np.std(x_raw[:,1]) "
      ],
      "metadata": {
        "id": "tYx1pLUh9lhd"
      },
      "execution_count": null,
      "outputs": []
    },
    {
      "cell_type": "code",
      "source": [
        "plt.scatter(x_all[:,0], x_all[:,1], c = label)"
      ],
      "metadata": {
        "colab": {
          "base_uri": "https://localhost:8080/",
          "height": 283
        },
        "id": "TMYqtjjyjlMD",
        "outputId": "3f7684c7-0b83-4f11-9bcc-716508d8a37c"
      },
      "execution_count": null,
      "outputs": [
        {
          "output_type": "execute_result",
          "data": {
            "text/plain": [
              "<matplotlib.collections.PathCollection at 0x7fd9a5b2f910>"
            ]
          },
          "metadata": {},
          "execution_count": 10
        },
        {
          "output_type": "display_data",
          "data": {
            "text/plain": [
              "<Figure size 432x288 with 1 Axes>"
            ],
            "image/png": "[encoded data removed]"
          },
          "metadata": {
            "needs_background": "light"
          }
        }
      ]
    },
    {
      "cell_type": "markdown",
      "source": [
        "# Reimporting Value, MLP, etc."
      ],
      "metadata": {
        "id": "yiGWJmwTpw4j"
      }
    },
    {
      "cell_type": "markdown",
      "source": [
        "The reason why we can't directly import micrograd's methods is because we've slightly rewritten \"Value\" to include exponentials for the purpose of using softmax for 3 class classification. Since the neural net methods are written off of the \"Value\" class in engine.py, we need to redefine everything from scratch so there are no bad references to the wrong Value function"
      ],
      "metadata": {
        "id": "sXnCbytZqUi3"
      }
    },
    {
      "cell_type": "code",
      "source": [
        "class Module:\n",
        "\n",
        "    def zero_grad(self):\n",
        "        for p in self.parameters():\n",
        "            p.grad = 0\n",
        "\n",
        "    def max_param(self):\n",
        "        param_vals = [p.data for p in self.parameters()]\n",
        "        return max(param_vals)\n",
        "\n",
        "    def max_grad(self):\n",
        "        param_vals = [p.grad for p in self.parameters()]\n",
        "        return max(param_vals)\n",
        "\n",
        "    def parameters(self):\n",
        "        return []\n",
        "\n",
        "\n",
        "class Neuron(Module):\n",
        "\n",
        "    def __init__(self, nin, nonlin=True):\n",
        "        self.w = [Value(random.gauss(0, 0.25)) for _ in range(nin)]\n",
        "        self.b = Value(0)\n",
        "        self.nonlin = nonlin\n",
        "\n",
        "    def __call__(self, x):\n",
        "        act = sum((wi*xi for wi,xi in zip(self.w, x)), self.b)\n",
        "        return act.relu() if self.nonlin else act\n",
        "\n",
        "    def parameters(self):\n",
        "        return self.w + [self.b]\n",
        "\n",
        "    def __repr__(self):\n",
        "        return f\"{'ReLU' if self.nonlin else 'Linear'}Neuron({len(self.w)})\"\n",
        "\n",
        "class Layer(Module):\n",
        "\n",
        "    def __init__(self, nin, nout, **kwargs):\n",
        "        self.neurons = [Neuron(nin, **kwargs) for _ in range(nout)]\n",
        "\n",
        "    def __call__(self, x):\n",
        "        out = [n(x) for n in self.neurons]\n",
        "        return out[0] if len(out) == 1 else out\n",
        "\n",
        "    def parameters(self):\n",
        "        return [p for n in self.neurons for p in n.parameters()]\n",
        "\n",
        "    def __repr__(self):\n",
        "        return f\"Layer of [{', '.join(str(n) for n in self.neurons)}]\"\n",
        "\n",
        "class MLP(Module):\n",
        "\n",
        "    def __init__(self, nin, nouts):\n",
        "        sz = [nin] + nouts\n",
        "        self.layers = [Layer(sz[i], sz[i+1], nonlin=i!=len(nouts)-1) for i in range(len(nouts))]\n",
        "\n",
        "    def __call__(self, x):\n",
        "        for layer in self.layers:\n",
        "            x = layer(x)\n",
        "        return x\n",
        "\n",
        "    def parameters(self):\n",
        "        return [p for layer in self.layers for p in layer.parameters()]\n",
        "\n",
        "    def __repr__(self):\n",
        "        return f\"MLP of [{', '.join(str(layer) for layer in self.layers)}]\""
      ],
      "metadata": {
        "id": "aNE1utCSp6Jz"
      },
      "execution_count": null,
      "outputs": []
    },
    {
      "cell_type": "code",
      "source": [
        "#Redefine \"Value\", since we need to include the exponential function in it.\n",
        "class Value:\n",
        "    \"\"\" stores a single scalar value and its gradient \"\"\"\n",
        "\n",
        "    def __init__(self, data, _children=(), _op='', label = ''):\n",
        "        self.data = data\n",
        "        self.grad = 0\n",
        "        self.label = label\n",
        "        # internal variables used for autograd graph construction\n",
        "        self._backward = lambda: None\n",
        "        self._prev = set(_children)\n",
        "        self._op = _op # the op that produced this node, for graphviz / debugging / etc\n",
        "\n",
        "    def __add__(self, other):\n",
        "        other = other if isinstance(other, Value) else Value(other)\n",
        "        out = Value(self.data + other.data, (self, other), '+')\n",
        "\n",
        "        def _backward():\n",
        "            self.grad += out.grad\n",
        "            other.grad += out.grad\n",
        "        out._backward = _backward\n",
        "\n",
        "        return out\n",
        "\n",
        "    def __mul__(self, other):\n",
        "        other = other if isinstance(other, Value) else Value(other)\n",
        "        out = Value(self.data * other.data, (self, other), '*')\n",
        "\n",
        "        def _backward():\n",
        "            self.grad += other.data * out.grad\n",
        "            other.grad += self.data * out.grad\n",
        "        out._backward = _backward\n",
        "\n",
        "        return out\n",
        "\n",
        "    def __pow__(self, other):\n",
        "        assert isinstance(other, (int, float)), \"only supporting int/float powers for now\"\n",
        "        out = Value(self.data**other, (self,), f'**{other}')\n",
        "\n",
        "        def _backward():\n",
        "            self.grad += (other * self.data**(other-1)) * out.grad\n",
        "        out._backward = _backward\n",
        "\n",
        "        return out\n",
        "\n",
        "    def relu(self):\n",
        "        out = Value(0 if self.data < 0 else self.data, (self,), 'ReLU')\n",
        "\n",
        "        def _backward():\n",
        "            self.grad += (out.data > 0) * out.grad\n",
        "        out._backward = _backward\n",
        "\n",
        "        return out\n",
        "\n",
        "    def backward(self):\n",
        "\n",
        "        # topological order all of the children in the graph\n",
        "        topo = []\n",
        "        visited = set()\n",
        "        def build_topo(v):\n",
        "            if v not in visited:\n",
        "                visited.add(v)\n",
        "                for child in v._prev:\n",
        "                    build_topo(child)\n",
        "                topo.append(v)\n",
        "        build_topo(self)\n",
        "\n",
        "        # go one variable at a time and apply the chain rule to get its gradient\n",
        "        self.grad = 1\n",
        "        for v in reversed(topo):\n",
        "            v._backward()\n",
        "\n",
        "    def exp(self):\n",
        "      self = self if isinstance(self, Value) else Value(self)\n",
        "      x = self.data\n",
        "      e = math.exp(x)\n",
        "      out = Value(e, (self, ), 'exp')\n",
        "\n",
        "      def _backward():\n",
        "        self.grad += e**x * out.grad\n",
        "      out._backward = _backward\n",
        "\n",
        "      return out\n",
        "\n",
        "    def log(self):\n",
        "      self = self if isinstance(self, Value) else Value(self)\n",
        "      eps = 1e-4 #numerical stability\n",
        "      x = self.data + eps\n",
        "      y = math.log(x)\n",
        "      out = Value(y, (self, ), 'log')\n",
        "\n",
        "      def _backward():\n",
        "        self.grad += 1/x * out.grad\n",
        "      out._backward = _backward\n",
        "\n",
        "      return out\n",
        "\n",
        "    def logistic(self):\n",
        "      self = self if isinstance(self, Value) else Value(self)\n",
        "      x = self.data\n",
        "      y = 1 / (1 + math.exp(-x))\n",
        "      out = Value(y, (self, ), 'logistic')\n",
        "\n",
        "      def _backward():\n",
        "        self.grad += math.exp(-x) / (1 + math.exp(-x))**2 * out.grad\n",
        "      out._backward = _backward\n",
        "\n",
        "      return out\n",
        "\n",
        "    def __neg__(self): # -self\n",
        "        return self * -1\n",
        "\n",
        "    def __radd__(self, other): # other + self\n",
        "        return self + other\n",
        "\n",
        "    def __sub__(self, other): # self - other\n",
        "        return self + (-other)\n",
        "\n",
        "    def __rsub__(self, other): # other - self\n",
        "        return other + (-self)\n",
        "\n",
        "    def __rmul__(self, other): # other * self\n",
        "        return self * other\n",
        "\n",
        "    def __truediv__(self, other): # self / other\n",
        "        return self * other**-1\n",
        "\n",
        "    def __rtruediv__(self, other): # other / self\n",
        "        return other * self**-1\n",
        "\n",
        "    def __repr__(self):\n",
        "        return f\"Value(data={self.data}, grad={self.grad})\""
      ],
      "metadata": {
        "id": "lLyS78SUWbOi"
      },
      "execution_count": null,
      "outputs": []
    },
    {
      "cell_type": "code",
      "source": [
        "from graphviz import Digraph"
      ],
      "metadata": {
        "id": "BadIMSctApxy"
      },
      "execution_count": null,
      "outputs": []
    },
    {
      "cell_type": "code",
      "source": [
        "def trace(root):\n",
        "  #builds a set of all nodes and edges in a graph\n",
        "  nodes, edges = set(), set()\n",
        "  def build(v):\n",
        "    if v not in nodes:\n",
        "      nodes.add(v)\n",
        "      for child in v._prev:\n",
        "        edges.add((child, v))\n",
        "        build(child)\n",
        "  build(root)\n",
        "  return nodes, edges"
      ],
      "metadata": {
        "id": "EKESYWO_AmxR"
      },
      "execution_count": null,
      "outputs": []
    },
    {
      "cell_type": "code",
      "source": [
        "def draw_dot(root):\n",
        "  dot = Digraph(format='svg', graph_attr={'rankdir': 'LR'}) #LR means left to right\n",
        "  nodes, edges = trace(root)\n",
        "\n",
        "  for n in nodes:\n",
        "    uid = str(id(n))\n",
        "    #for value in graph, create rectangular ('record) node for it\n",
        "    dot.node(name=uid, label = \"{ %s | data %.4f | grad %.4f}\" % (n.label, n.data, n.grad ), shape='record')\n",
        "    if n._op:\n",
        "      #if this value is the result of some operation, create op node\n",
        "      dot.node(name = uid + n._op, label = n._op)\n",
        "      #connect the node to it\n",
        "      dot.edge(uid + n._op, uid)\n",
        "\n",
        "  for n1, n2 in edges:\n",
        "    #Connect n1 to op node of n2\n",
        "    dot.edge(str(id(n1)), str(id(n2)) + n2._op)\n",
        "\n",
        "\n",
        "  return dot"
      ],
      "metadata": {
        "id": "Uis1eQyWAnlZ"
      },
      "execution_count": null,
      "outputs": []
    },
    {
      "cell_type": "markdown",
      "source": [
        "# Model Work Below"
      ],
      "metadata": {
        "id": "1BJyFpjtp2Tp"
      }
    },
    {
      "cell_type": "code",
      "source": [
        "#Define our simple 3 layer MLP\n",
        "model = MLP(2,[20, 20, 3]) #2 layer network\n",
        "print(\"Param no.\", len(model.parameters()))"
      ],
      "metadata": {
        "colab": {
          "base_uri": "https://localhost:8080/"
        },
        "id": "Npsb1049PdCd",
        "outputId": "f6c9bc79-843c-49aa-89b5-459addeac09f"
      },
      "execution_count": null,
      "outputs": [
        {
          "output_type": "stream",
          "name": "stdout",
          "text": [
            "Param no. 543\n"
          ]
        }
      ]
    },
    {
      "cell_type": "code",
      "source": [
        "#Useful functions for multiple class classification, built for the Value wrapper\n",
        "def one_hot(targ_idx, total_labels):\n",
        "  zero_arr = np.zeros(total_labels)\n",
        "  zero_arr[targ_idx] = 1\n",
        "  return [Value(i) for i in zero_arr]\n",
        "\n",
        "def softmax(ys):\n",
        "  sum_ys = sum([y.exp() for y in ys])\n",
        "  return [y.exp()/sum_ys for y in ys]\n",
        "\n",
        "def cross_entropy_loss(preds, targs):\n",
        "  output = -sum([p_i.log() if t_i.data == 1.0 else 0 for t_i, p_i in zip(targs, softmax(preds))])\n",
        "  return output\n",
        "\n",
        "def max_value_idx(xs):\n",
        "  np_vers = np.array([x.data for x in xs])\n",
        "  return np.argmax(np_vers)\n",
        "\n",
        "#Need to define another logistic layer, to squash values if needed\n",
        "def logit(final_layer):\n",
        "  return [p.logistic() for p in final_layer]\n",
        "\n",
        "def MSE(preds, targs):\n",
        "  return [(t_i - p_i)**2 for t_i, p_i in zip(targs, preds)]\n"
      ],
      "metadata": {
        "id": "Dw9GUMxvQWn3"
      },
      "execution_count": null,
      "outputs": []
    },
    {
      "cell_type": "code",
      "source": [
        "#We have 3 total targets (could've defined earlier) for one-hot encoding (multiclass classification)\n",
        "total_targets = 3"
      ],
      "metadata": {
        "id": "z-kU9xDsdmy3"
      },
      "execution_count": null,
      "outputs": []
    },
    {
      "cell_type": "code",
      "source": [
        "def loss(model, batch_size = None):\n",
        "  #Load data in and calculate loss simultaneously\n",
        "  if batch_size is None:\n",
        "    #Xb, yb represent the \"batch\" of Xs, ys\n",
        "    Xb, yb = x_all, label_i\n",
        "  else:\n",
        "    #Pick a random batch\n",
        "    b_idx = np.random.permutation(x_all.shape[0])[:batch_size]\n",
        "    #Index the batch Xs, ys\n",
        "    Xb, yb = x_all[b_idx], label_i[b_idx]\n",
        "  \n",
        "  #Convert all the inputs into \"Values\" recognizable by micrograd's built-in architectures\n",
        "  inputs = [list(map(Value,xs)) for xs in Xb]\n",
        "\n",
        "  #Create one-hot encoded vectors (Value-wrapped) for one-hot classification\n",
        "  one_hot_func = np.vectorize(one_hot)\n",
        "  targets = one_hot_func(yb, 3).tolist()\n",
        "\n",
        "  #Regular label vector for integer class prediction\n",
        "  #targets = list(map(Value,yb))\n",
        "\n",
        "  #Get predictions\n",
        "  preds = list(map(model, inputs))\n",
        "  # preds = list(map(logit, preds)) #If we want logistic squashing\n",
        "\n",
        "  #Calculate cross-entropy loss\n",
        "  losses = [cross_entropy_loss(p_i, t_i) for p_i, t_i in zip(preds, targets)]\n",
        "  #losses = MSE(preds, targets)\n",
        "  avg_loss = sum(losses) * (1.0 /len(losses))\n",
        "\n",
        "  #Implement L2 Regularization (weight shrinkage)\n",
        "  alpha = 1e-1 #5e-2 did work\n",
        "  reg_loss = alpha * sum((p*p for p in model.parameters()))\n",
        "  total_loss = avg_loss + reg_loss\n",
        "\n",
        "  #Get accuracy\n",
        "  #Convert values to np array to use np argmax\n",
        "  pred_class = [max_value_idx(x) for x in preds]\n",
        "  #pred_class = [np.rint(x.data) for x in preds]\n",
        "  accuracy = [p_i == t_i for p_i, t_i in zip(pred_class,yb)]\n",
        "  \n",
        "  return total_loss, sum(accuracy)/len(accuracy)\n",
        "  "
      ],
      "metadata": {
        "id": "3P4tcp-kLOK8"
      },
      "execution_count": null,
      "outputs": []
    },
    {
      "cell_type": "markdown",
      "source": [
        "Training cycle"
      ],
      "metadata": {
        "id": "5bpq0aDnuNWr"
      }
    },
    {
      "cell_type": "code",
      "source": [
        "#Parameter set used for original learning\n",
        "#model is 2x20x20x3\n",
        "#lr = 1e-1 * math.sin(3.1714 * k/no_epochs) + 1e-2 \n",
        "#alpha = 1e-1"
      ],
      "metadata": {
        "id": "dYJmiUXx5OWg"
      },
      "execution_count": null,
      "outputs": []
    },
    {
      "cell_type": "code",
      "source": [
        "model = MLP(2,[20, 20, 3]) #2 layer network\n",
        "no_epochs = 14\n",
        "for k in range(no_epochs):\n",
        "\n",
        "  #Forward pass\n",
        "  #Built in forward model pass and loss prediction in one step, see loss function above\n",
        "  print(f\"Step {k} | Max Weight {model.max_param()} | Max Grad {model.max_grad()}\")\n",
        "  total_loss, acc = loss(model)\n",
        "\n",
        "  #backward pass\n",
        "  model.zero_grad()\n",
        "  total_loss.backward()\n",
        "\n",
        "  #update (sgd) #1e-1 1e-2\n",
        "  lr = 8e-2 * math.sin(3.1714 * k/no_epochs) + 2e-2 #Learning rate scheduler, simple exponential function\n",
        "  for p in model.parameters():\n",
        "    p.data -= lr* p.grad\n",
        "\n",
        "  if k % 1 == 0:\n",
        "    print(f\"Step {k} | Loss {total_loss.data} | Accuracy {acc * 100}%\")"
      ],
      "metadata": {
        "colab": {
          "base_uri": "https://localhost:8080/"
        },
        "id": "jVp7u082lDp5",
        "outputId": "09202b93-a8fd-4251-8bce-f85bd62e8d37"
      },
      "execution_count": null,
      "outputs": [
        {
          "output_type": "stream",
          "name": "stdout",
          "text": [
            "Step 0 | Max Weight 1.1332715491457912 | Max Grad 0\n",
            "Step 0 | Loss 6.667639947670037 | Accuracy 33.33333333333333%\n",
            "Step 1 | Max Weight 1.128540578980842 | Max Grad 0.6245708135896619\n",
            "Step 1 | Loss 6.5716911937909925 | Accuracy 33.33333333333333%\n",
            "Step 2 | Max Weight 1.1196338972839301 | Max Grad 0.4425199604627397\n",
            "Step 2 | Loss 6.422852830796176 | Accuracy 32.5%\n",
            "Step 3 | Max Weight 1.106877780672927 | Max Grad 0.31326904241423625\n",
            "Step 3 | Loss 6.244006146769843 | Accuracy 34.166666666666664%\n",
            "Step 4 | Max Weight 1.0907894059467198 | Max Grad 0.24413312349133487\n",
            "Step 4 | Loss 6.045445673540465 | Accuracy 35.833333333333336%\n",
            "Step 5 | Max Weight 1.072095512150522 | Max Grad 0.22531169206166243\n",
            "Step 5 | Loss 5.836095666464896 | Accuracy 42.5%\n",
            "Step 6 | Max Weight 1.0516237650116464 | Max Grad 0.22145281463932726\n",
            "Step 6 | Loss 5.624014520862271 | Accuracy 45.0%\n",
            "Step 7 | Max Weight 1.030294793331857 | Max Grad 0.21716553125616378\n",
            "Step 7 | Loss 5.417143312110066 | Accuracy 52.5%\n",
            "Step 8 | Max Weight 1.0090256223375702 | Max Grad 0.21271060846052509\n",
            "Step 8 | Loss 5.2235995157640165 | Accuracy 57.49999999999999%\n",
            "Step 9 | Max Weight 0.9886817997678576 | Max Grad 0.20827068365183588\n",
            "Step 9 | Loss 5.0485215836536455 | Accuracy 65.0%\n",
            "Step 10 | Max Weight 0.9700418945514175 | Max Grad 0.20393948737645629\n",
            "Step 10 | Loss 4.896689619230584 | Accuracy 73.33333333333333%\n",
            "Step 11 | Max Weight 0.9537452513592354 | Max Grad 0.2000313456568881\n",
            "Step 11 | Loss 4.772364609658477 | Accuracy 78.33333333333333%\n",
            "Step 12 | Max Weight 0.9402875374397373 | Max Grad 0.1967479131416458\n",
            "Step 12 | Loss 4.68271837679331 | Accuracy 75.0%\n",
            "Step 13 | Max Weight 0.9300336671925118 | Max Grad 0.3617488164417206\n",
            "Step 13 | Loss 4.654161343735614 | Accuracy 71.66666666666667%\n"
          ]
        }
      ]
    },
    {
      "cell_type": "code",
      "source": [
        "#Plotting the discriminatory matrix by predicting on a grid of (x,y) values\n",
        "\n",
        "h = 0.2\n",
        "x_min, x_max = x_all[:,0].min() - 1, x_all[:,0].max() + 1\n",
        "y_min, y_max = x_all[:,1].min() - 1, x_all[:,1].max() + 1\n",
        "\n",
        "xx, yy = np.meshgrid(np.arange(x_min, x_max, h),\n",
        "                     np.arange(y_min, y_max, h))\n",
        "\n",
        "Xmesh = np.c_[xx.ravel(), yy.ravel()]\n",
        "Xmesh_norm = Xmesh\n",
        "Xmesh_norm[:,0] = (Xmesh[:,0] - np.mean(Xmesh[:,0])) / np.std(Xmesh[:,0])\n",
        "Xmesh_norm[:,1] = (Xmesh[:,1] - np.mean(Xmesh[:,1])) / np.std(Xmesh[:,1]) \n",
        "\n",
        "inputs = [list(map(Value,xs)) for xs in Xmesh_norm]\n",
        "preds = list(map(model, inputs))\n",
        "\n",
        "pred_class = np.array([max_value_idx(x) for x in preds])\n",
        "# pred_class = np.array([np.rint(x.data) for x in preds]) - 1\n",
        "\n",
        "\n"
      ],
      "metadata": {
        "id": "McdToWnKb1p-"
      },
      "execution_count": null,
      "outputs": []
    },
    {
      "cell_type": "code",
      "source": [
        "Z = pred_class.reshape(xx.shape)\n",
        "\n",
        "fig = plt.figure()\n",
        "plt.contourf(xx, yy, Z, cmap = plt.cm.Spectral, alpha=0.8)\n",
        "plt.scatter(x_all[:,0], x_all[:,1], c = label_i, s = 40, cmap = plt.cm.Spectral)\n",
        "plt.xlim(xx.min(), xx.max())\n",
        "plt.ylim(yy.min(), yy.max())"
      ],
      "metadata": {
        "colab": {
          "base_uri": "https://localhost:8080/",
          "height": 283
        },
        "id": "M1LmV84r4lYi",
        "outputId": "e7902dea-ec1c-4744-99e2-5692f297e824"
      },
      "execution_count": null,
      "outputs": [
        {
          "output_type": "execute_result",
          "data": {
            "text/plain": [
              "(-2.9124659794509746, 2.48753402054903)"
            ]
          },
          "metadata": {},
          "execution_count": 44
        },
        {
          "output_type": "display_data",
          "data": {
            "text/plain": [
              "<Figure size 432x288 with 1 Axes>"
            ],
            "image/png": "[encoded data removed]"
          },
          "metadata": {
            "needs_background": "light"
          }
        }
      ]
    },
    {
      "cell_type": "markdown",
      "source": [
        "Classification performance wasn't too great, likely due to lack of extensive hyperparameter tuning. The complexity of the NN (hundreds of weights) should have bee enough to fit this type of simple boundary."
      ],
      "metadata": {
        "id": "Zb6ISSpyzPu4"
      }
    },
    {
      "cell_type": "code",
      "source": [
        "import pandas as pd"
      ],
      "metadata": {
        "id": "M_V4OSjhXGv4"
      },
      "execution_count": null,
      "outputs": []
    },
    {
      "cell_type": "code",
      "source": [
        "pred_class = [max_value_idx(x) for x in preds]\n",
        "dat = pd.Series(pred_class)\n",
        "dat.value_counts()"
      ],
      "metadata": {
        "colab": {
          "base_uri": "https://localhost:8080/"
        },
        "id": "r9noAzsWGJCH",
        "outputId": "7f3b893d-8825-4929-ee69-e3085c93b504"
      },
      "execution_count": null,
      "outputs": [
        {
          "output_type": "execute_result",
          "data": {
            "text/plain": [
              "2    81\n",
              "0    39\n",
              "dtype: int64"
            ]
          },
          "metadata": {},
          "execution_count": 234
        }
      ]
    },
    {
      "cell_type": "code",
      "source": [
        "list(zip(pred_class, label_i))"
      ],
      "metadata": {
        "colab": {
          "base_uri": "https://localhost:8080/"
        },
        "id": "Idma4TJfW3RO",
        "outputId": "0b43c767-e878-413f-add5-5b6fdf9f6328"
      },
      "execution_count": null,
      "outputs": [
        {
          "output_type": "execute_result",
          "data": {
            "text/plain": [
              "[(2, 0),\n",
              " (2, 0),\n",
              " (2, 0),\n",
              " (2, 0),\n",
              " (2, 0),\n",
              " (2, 0),\n",
              " (2, 0),\n",
              " (2, 0),\n",
              " (2, 0),\n",
              " (2, 0),\n",
              " (2, 0),\n",
              " (2, 0),\n",
              " (2, 0),\n",
              " (2, 0),\n",
              " (2, 0),\n",
              " (2, 0),\n",
              " (2, 0),\n",
              " (2, 0),\n",
              " (2, 0),\n",
              " (2, 0),\n",
              " (2, 0),\n",
              " (2, 0),\n",
              " (2, 0),\n",
              " (2, 0),\n",
              " (2, 0),\n",
              " (2, 0),\n",
              " (2, 0),\n",
              " (2, 0),\n",
              " (2, 0),\n",
              " (2, 0),\n",
              " (2, 0),\n",
              " (2, 0),\n",
              " (2, 0),\n",
              " (2, 0),\n",
              " (2, 0),\n",
              " (2, 0),\n",
              " (2, 0),\n",
              " (2, 0),\n",
              " (2, 0),\n",
              " (2, 0),\n",
              " (2, 1),\n",
              " (2, 1),\n",
              " (2, 1),\n",
              " (2, 1),\n",
              " (2, 1),\n",
              " (2, 1),\n",
              " (2, 1),\n",
              " (2, 1),\n",
              " (0, 1),\n",
              " (2, 1),\n",
              " (2, 1),\n",
              " (0, 1),\n",
              " (2, 1),\n",
              " (2, 1),\n",
              " (2, 1),\n",
              " (2, 1),\n",
              " (2, 1),\n",
              " (2, 1),\n",
              " (2, 1),\n",
              " (2, 1),\n",
              " (2, 1),\n",
              " (2, 1),\n",
              " (2, 1),\n",
              " (2, 1),\n",
              " (2, 1),\n",
              " (2, 1),\n",
              " (0, 1),\n",
              " (2, 1),\n",
              " (0, 1),\n",
              " (0, 1),\n",
              " (2, 1),\n",
              " (2, 1),\n",
              " (2, 1),\n",
              " (2, 1),\n",
              " (2, 1),\n",
              " (2, 1),\n",
              " (2, 1),\n",
              " (2, 1),\n",
              " (2, 1),\n",
              " (2, 1),\n",
              " (0, 2),\n",
              " (0, 2),\n",
              " (0, 2),\n",
              " (0, 2),\n",
              " (0, 2),\n",
              " (0, 2),\n",
              " (2, 2),\n",
              " (0, 2),\n",
              " (0, 2),\n",
              " (0, 2),\n",
              " (0, 2),\n",
              " (0, 2),\n",
              " (0, 2),\n",
              " (2, 2),\n",
              " (0, 2),\n",
              " (0, 2),\n",
              " (2, 2),\n",
              " (0, 2),\n",
              " (0, 2),\n",
              " (0, 2),\n",
              " (0, 2),\n",
              " (0, 2),\n",
              " (0, 2),\n",
              " (0, 2),\n",
              " (2, 2),\n",
              " (0, 2),\n",
              " (0, 2),\n",
              " (0, 2),\n",
              " (2, 2),\n",
              " (2, 2),\n",
              " (0, 2),\n",
              " (0, 2),\n",
              " (0, 2),\n",
              " (0, 2),\n",
              " (0, 2),\n",
              " (0, 2),\n",
              " (0, 2),\n",
              " (0, 2),\n",
              " (0, 2),\n",
              " (0, 2)]"
            ]
          },
          "metadata": {},
          "execution_count": 235
        }
      ]
    },
    {
      "cell_type": "code",
      "source": [],
      "metadata": {
        "id": "M6nWf5Smfal-"
      },
      "execution_count": null,
      "outputs": []
    }
  ]
}